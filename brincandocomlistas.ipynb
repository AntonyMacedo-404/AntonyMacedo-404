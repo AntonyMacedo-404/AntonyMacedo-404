{
  "nbformat": 4,
  "nbformat_minor": 0,
  "metadata": {
    "colab": {
      "provenance": [],
      "authorship_tag": "ABX9TyNJsmH/8y00TNUMjIE+yGMU",
      "include_colab_link": true
    },
    "kernelspec": {
      "name": "python3",
      "display_name": "Python 3"
    },
    "language_info": {
      "name": "python"
    }
  },
  "cells": [
    {
      "cell_type": "markdown",
      "metadata": {
        "id": "view-in-github",
        "colab_type": "text"
      },
      "source": [
        "<a href=\"https://colab.research.google.com/github/AntonyMacedo-404/AntonyMacedo-404/blob/main/brincandocomlistas.ipynb\" target=\"_parent\"><img src=\"https://colab.research.google.com/assets/colab-badge.svg\" alt=\"Open In Colab\"/></a>"
      ]
    },
    {
      "cell_type": "code",
      "execution_count": null,
      "metadata": {
        "id": "9bECkcOK7gKi",
        "colab": {
          "base_uri": "https://localhost:8080/"
        },
        "outputId": "547ac7c4-f6a1-4052-c34d-072a30739b7a"
      },
      "outputs": [
        {
          "output_type": "stream",
          "name": "stdout",
          "text": [
            "Qual valor você quer adicionar a lista: 70\n",
            "O valor 70 foi adicionado a lista\n",
            "Lista:\n",
            "100\n",
            "400\n",
            "6000\n",
            "700\n",
            "70\n",
            "O numero de elemenos são: \n"
          ]
        },
        {
          "output_type": "execute_result",
          "data": {
            "text/plain": [
              "5"
            ]
          },
          "metadata": {},
          "execution_count": 33
        }
      ],
      "source": [
        "pr = int(input('Qual valor você quer adicionar a lista: '))\n",
        "lista = [100, 400, 6000, 700]\n",
        "lista.append(pr)\n",
        "if pr < 20:\n",
        "  print(\"Esse valor não pode ser adicionado a lista\")\n",
        "else:\n",
        " print('O valor', pr, 'foi adicionado a lista')\n",
        " print(\"Lista:\")\n",
        "for minha_lista in lista:\n",
        "    print(minha_lista)\n",
        "print(\"O numero de elemenos são: \")\n",
        "len(lista)"
      ]
    },
    {
      "cell_type": "code",
      "source": [
        "lapada = int(input(\"Qual elemento voce deseja visitar: \"))\n",
        "lista[lapada]"
      ],
      "metadata": {
        "id": "vmVs2ouVN8B0",
        "colab": {
          "base_uri": "https://localhost:8080/"
        },
        "outputId": "d0d46ddf-7d79-4e11-9bea-63f19d24a4d7"
      },
      "execution_count": null,
      "outputs": [
        {
          "name": "stdout",
          "output_type": "stream",
          "text": [
            "Qual elemento voce deseja visitar: 2\n"
          ]
        },
        {
          "output_type": "execute_result",
          "data": {
            "text/plain": [
              "6000"
            ]
          },
          "metadata": {},
          "execution_count": 22
        }
      ]
    },
    {
      "cell_type": "code",
      "source": [
        "minha_tupla = [1, 2]"
      ],
      "metadata": {
        "id": "jIWbzwc9Bdwx"
      },
      "execution_count": null,
      "outputs": []
    },
    {
      "cell_type": "code",
      "source": [
        "dic = {}\n",
        "dic = []\n",
        "dic"
      ],
      "metadata": {
        "colab": {
          "base_uri": "https://localhost:8080/"
        },
        "id": "IenWsQXcBluU",
        "outputId": "0704bd4f-6185-42f8-a246-d839eb5bf5a8"
      },
      "execution_count": 1,
      "outputs": [
        {
          "output_type": "execute_result",
          "data": {
            "text/plain": [
              "[123]"
            ]
          },
          "metadata": {},
          "execution_count": 1
        }
      ]
    }
  ]
}